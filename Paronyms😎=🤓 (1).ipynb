{
  "cells": [
    {
      "cell_type": "code",
      "execution_count": 1,
      "metadata": {
        "colab": {
          "base_uri": "https://localhost:8080/"
        },
        "id": "NmA11UEQawrn",
        "outputId": "7aefd9d6-8eea-409c-b81b-b0ace8bf14ee"
      },
      "outputs": [
        {
          "name": "stdout",
          "output_type": "stream",
          "text": [
            "Requirement already satisfied: fuzzywuzzy in /Library/Frameworks/Python.framework/Versions/3.10/lib/python3.10/site-packages (0.18.0)\n",
            "\u001b[33mDEPRECATION: keras-complex 0.2.3 has a non-standard dependency specifier tensorflow>=\"2.0.0\". pip 24.0 will enforce this behaviour change. A possible replacement is to upgrade to a newer version of keras-complex or contact the author to suggest that they release a version with a conforming dependency specifiers. Discussion can be found at https://github.com/pypa/pip/issues/12063\u001b[0m\u001b[33m\n",
            "\u001b[0mNote: you may need to restart the kernel to use updated packages.\n"
          ]
        }
      ],
      "source": [
        "%pip install fuzzywuzzy"
      ]
    },
    {
      "cell_type": "code",
      "execution_count": 2,
      "metadata": {
        "colab": {
          "base_uri": "https://localhost:8080/"
        },
        "id": "u2RHh56Ja-Jo",
        "outputId": "cf4d80d0-af28-4487-dfdf-98e38a0553f2"
      },
      "outputs": [
        {
          "name": "stdout",
          "output_type": "stream",
          "text": [
            "Requirement already satisfied: python-Levenshtein in /Library/Frameworks/Python.framework/Versions/3.10/lib/python3.10/site-packages (0.23.0)\n",
            "Requirement already satisfied: Levenshtein==0.23.0 in /Library/Frameworks/Python.framework/Versions/3.10/lib/python3.10/site-packages (from python-Levenshtein) (0.23.0)\n",
            "Requirement already satisfied: rapidfuzz<4.0.0,>=3.1.0 in /Library/Frameworks/Python.framework/Versions/3.10/lib/python3.10/site-packages (from Levenshtein==0.23.0->python-Levenshtein) (3.5.2)\n",
            "\u001b[33mDEPRECATION: keras-complex 0.2.3 has a non-standard dependency specifier tensorflow>=\"2.0.0\". pip 24.0 will enforce this behaviour change. A possible replacement is to upgrade to a newer version of keras-complex or contact the author to suggest that they release a version with a conforming dependency specifiers. Discussion can be found at https://github.com/pypa/pip/issues/12063\u001b[0m\u001b[33m\n",
            "\u001b[0mNote: you may need to restart the kernel to use updated packages.\n"
          ]
        }
      ],
      "source": [
        "%pip install python-Levenshtein"
      ]
    },
    {
      "cell_type": "code",
      "execution_count": 74,
      "metadata": {},
      "outputs": [],
      "source": [
        "import matplotlib.pyplot as plt"
      ]
    },
    {
      "cell_type": "code",
      "execution_count": 144,
      "metadata": {
        "id": "VJo7rviHii6A"
      },
      "outputs": [],
      "source": [
        "import requests\n",
        "from bs4 import BeautifulSoup\n",
        "import numpy as np\n",
        "\n",
        "\n",
        "paronyms = []\n",
        "\n",
        "\n",
        "# взятие паронимов с открытого ресурса\n",
        "home_url = 'https://ru-paronym.ru'\n",
        "ru_alphabet = [chr(i) for i in range(ord('А'), ord('А') + 32)]\n",
        "no_words = ['Ё', 'Й', 'Щ', 'Ъ', 'Ы', 'Ь']\n",
        "\n",
        "# Создаем множество всех слов из датасета паронимов\n",
        "all_words = set()\n",
        "\n",
        "for letter in ru_alphabet:\n",
        "    if letter in no_words:\n",
        "        continue\n",
        "    url = home_url + '/' + letter\n",
        "    html = requests.get(url)\n",
        "    soup = BeautifulSoup(html.content, 'html.parser')\n",
        "    arr = soup.find_all('a', href=True)[2:-27]  # Откидываем первые 2 и последние 27 элемента, которые есть на каждой странице\n",
        "    for elem in arr:\n",
        "        webpage = home_url + elem['href']\n",
        "        words = (elem.string).split(' — ')\n",
        "        paronyms.append([words[0] + '_' + words[1], 1])  # пары слов - паронимы\n",
        "        paronyms.append([words[1] + '_' + words[0], 1])  # пара в обратном порядке\n",
        "        all_words.update((words[0], words[1])) # Создаем множество всех слов из датасета паронимов"
      ]
    },
    {
      "cell_type": "code",
      "execution_count": 163,
      "metadata": {
        "colab": {
          "base_uri": "https://localhost:8080/"
        },
        "id": "0ranqsxO1JOO",
        "outputId": "dc791550-8bc2-4e14-9c26-926f53d436f8"
      },
      "outputs": [
        {
          "name": "stdout",
          "output_type": "stream",
          "text": [
            "[['абонемент_абонент', 1], ['абонент_абонемент', 1], ['абстрактность_абстракция', 1], ['абстракция_абстрактность', 1], ['авантюрин_авантюрист', 1], ['авантюрист_авантюрин', 1], ['автобиографический_автобиографичный', 1], ['автобиографичный_автобиографический', 1], ['автоматический_автоматичный', 1], ['автоматичный_автоматический', 1], ['автономия_автономность', 1], ['автономность_автономия', 1], ['авторитарный_авторитетный', 1], ['авторитетный_авторитарный', 1], ['адресант_адресат', 1], ['адресат_адресант', 1], ['азарт_азартность', 1], ['азартность_азарт', 1], ['академический_академичный', 1], ['академичный_академический', 1]]\n"
          ]
        }
      ],
      "source": [
        "# база данных с кортежами с меткой (1) - паронимы\n",
        "print(paronyms[:20])"
      ]
    },
    {
      "cell_type": "code",
      "execution_count": 146,
      "metadata": {
        "id": "0aHMtbHj10mq"
      },
      "outputs": [],
      "source": [
        "import random\n",
        "\n",
        "# создание пар слов не паронимов путем перемешивания уже имеющихся слов\n",
        "def generate_non_paronyms(paronyms, seed = None):\n",
        "\n",
        "    non_paronyms = []\n",
        "\n",
        "    if seed:\n",
        "      random.seed(seed)\n",
        "\n",
        "    # Случайные пары из множества всех слов\n",
        "    for _ in range(len(paronyms)):\n",
        "        word1, word2 = random.choices(list(all_words), k=2)\n",
        "        if (word1 + ' ' + word2, 1) not in paronyms:\n",
        "          non_paronyms.append([word1 + '_' + word2, 0])  # Метка 0, так как это непаронимы\n",
        "\n",
        "    return non_paronyms\n",
        "\n",
        "non_paronyms = generate_non_paronyms(paronyms, 42)\n"
      ]
    },
    {
      "cell_type": "code",
      "execution_count": 148,
      "metadata": {
        "colab": {
          "base_uri": "https://localhost:8080/"
        },
        "id": "Sx1kGPYl2uak",
        "outputId": "f023f564-0a71-43fd-926e-6c24bb118574"
      },
      "outputs": [
        {
          "name": "stdout",
          "output_type": "stream",
          "text": [
            "[['памятливый_памятный', 1], ['обоснование_основание', 1], ['вспоминать_поминать', 1], ['цветовой_фантастичный', 0], ['схоластический_могильник', 0], ['крючкотворский_крючкотворный', 1], ['сладостный_сладкий', 1], ['демонстративный_демонстрационный', 1], ['покорный_покорливый', 1], ['гнуткий_гнутый', 1]]\n"
          ]
        }
      ],
      "source": [
        "dataset_par = paronyms + non_paronyms\n",
        "random.shuffle(dataset_par) # перемешивание датасета на всякий случай\n",
        "print(dataset_par[:10])"
      ]
    },
    {
      "cell_type": "code",
      "execution_count": 149,
      "metadata": {
        "id": "76beZ84j36Iy"
      },
      "outputs": [
        {
          "data": {
            "text/html": [
              "<div>\n",
              "<style scoped>\n",
              "    .dataframe tbody tr th:only-of-type {\n",
              "        vertical-align: middle;\n",
              "    }\n",
              "\n",
              "    .dataframe tbody tr th {\n",
              "        vertical-align: top;\n",
              "    }\n",
              "\n",
              "    .dataframe thead th {\n",
              "        text-align: right;\n",
              "    }\n",
              "</style>\n",
              "<table border=\"1\" class=\"dataframe\">\n",
              "  <thead>\n",
              "    <tr style=\"text-align: right;\">\n",
              "      <th></th>\n",
              "      <th>word_pair</th>\n",
              "      <th>label</th>\n",
              "    </tr>\n",
              "  </thead>\n",
              "  <tbody>\n",
              "    <tr>\n",
              "      <th>0</th>\n",
              "      <td>памятливый_памятный</td>\n",
              "      <td>1</td>\n",
              "    </tr>\n",
              "    <tr>\n",
              "      <th>1</th>\n",
              "      <td>обоснование_основание</td>\n",
              "      <td>1</td>\n",
              "    </tr>\n",
              "    <tr>\n",
              "      <th>2</th>\n",
              "      <td>вспоминать_поминать</td>\n",
              "      <td>1</td>\n",
              "    </tr>\n",
              "    <tr>\n",
              "      <th>3</th>\n",
              "      <td>цветовой_фантастичный</td>\n",
              "      <td>0</td>\n",
              "    </tr>\n",
              "    <tr>\n",
              "      <th>4</th>\n",
              "      <td>схоластический_могильник</td>\n",
              "      <td>0</td>\n",
              "    </tr>\n",
              "    <tr>\n",
              "      <th>...</th>\n",
              "      <td>...</td>\n",
              "      <td>...</td>\n",
              "    </tr>\n",
              "    <tr>\n",
              "      <th>3511</th>\n",
              "      <td>оболванить_обезлюдить</td>\n",
              "      <td>0</td>\n",
              "    </tr>\n",
              "    <tr>\n",
              "      <th>3512</th>\n",
              "      <td>советник_советчик</td>\n",
              "      <td>1</td>\n",
              "    </tr>\n",
              "    <tr>\n",
              "      <th>3513</th>\n",
              "      <td>пометка_обрывок</td>\n",
              "      <td>0</td>\n",
              "    </tr>\n",
              "    <tr>\n",
              "      <th>3514</th>\n",
              "      <td>штатский_русский</td>\n",
              "      <td>0</td>\n",
              "    </tr>\n",
              "    <tr>\n",
              "      <th>3515</th>\n",
              "      <td>городничий_городовой</td>\n",
              "      <td>1</td>\n",
              "    </tr>\n",
              "  </tbody>\n",
              "</table>\n",
              "<p>3516 rows × 2 columns</p>\n",
              "</div>"
            ],
            "text/plain": [
              "                     word_pair  label\n",
              "0          памятливый_памятный      1\n",
              "1        обоснование_основание      1\n",
              "2          вспоминать_поминать      1\n",
              "3        цветовой_фантастичный      0\n",
              "4     схоластический_могильник      0\n",
              "...                        ...    ...\n",
              "3511     оболванить_обезлюдить      0\n",
              "3512         советник_советчик      1\n",
              "3513           пометка_обрывок      0\n",
              "3514          штатский_русский      0\n",
              "3515      городничий_городовой      1\n",
              "\n",
              "[3516 rows x 2 columns]"
            ]
          },
          "execution_count": 149,
          "metadata": {},
          "output_type": "execute_result"
        }
      ],
      "source": [
        "import pandas as pd\n",
        "\n",
        "data = pd.DataFrame(dataset_par, columns=['word_pair', 'label'])\n",
        "data"
      ]
    },
    {
      "cell_type": "markdown",
      "metadata": {},
      "source": [
        "First we need next to collect a \"vocabulary\" of all unique tokens i.e. unique characters. We can then encode inputs as a sequence of character ids."
      ]
    },
    {
      "cell_type": "code",
      "execution_count": 150,
      "metadata": {},
      "outputs": [
        {
          "name": "stdout",
          "output_type": "stream",
          "text": [
            "num_tokens =  40\n"
          ]
        }
      ],
      "source": [
        "#all unique characters go here\n",
        "tokens = set()\n",
        "for name in data['word_pair']:\n",
        "    tokens.update(set(name))\n",
        "\n",
        "tokens = list(tokens)\n",
        "\n",
        "num_tokens = len(tokens)\n",
        "print ('num_tokens = ', num_tokens)"
      ]
    },
    {
      "cell_type": "markdown",
      "metadata": {},
      "source": [
        "## Convert characters to integers\n",
        "Torch is built for crunching numbers, not strings. To train our neural network, we'll need to replace characters with their indices in tokens list.\n",
        "\n",
        "Let's compose a dictionary that does this mapping."
      ]
    },
    {
      "cell_type": "code",
      "execution_count": 151,
      "metadata": {},
      "outputs": [
        {
          "name": "stdout",
          "output_type": "stream",
          "text": [
            "Seems alright!\n"
          ]
        }
      ],
      "source": [
        "tokens.append('<') # <SOS>\n",
        "tokens.append('>') # <EOS>\n",
        "tokens.append('=') # <PAD>\n",
        "\n",
        "token_to_id = {token: idx for idx, token in enumerate(tokens)}\n",
        "\n",
        "assert len(tokens) == len(token_to_id), \"dictionaries must have same size\"\n",
        "\n",
        "for i in range(num_tokens):\n",
        "    assert token_to_id[tokens[i]] == i, \"token identifier must be it's position in tokens list\"\n",
        "\n",
        "print(\"Seems alright!\")"
      ]
    },
    {
      "cell_type": "code",
      "execution_count": 152,
      "metadata": {},
      "outputs": [],
      "source": [
        "def to_matrix(\n",
        "    words, max_len=None, pad=token_to_id['='], dtype='int32', batch_first=True\n",
        "    ):\n",
        "    \"\"\"Casts a list of words into transformer-digestable matrix\"\"\"\n",
        "    \n",
        "    max_len = max_len or max(map(len, words))\n",
        "    max_len += 2\n",
        "    words_ix = np.zeros([len(words), max_len], dtype) + pad\n",
        "    words_ix[:, 0] = token_to_id['<'] # <SOS>\n",
        "\n",
        "    for i in range(len(words)):\n",
        "        line_ix = [token_to_id[c] for c in words[i]]\n",
        "        words_ix[i, 1:(len(line_ix) + 1)] = line_ix[:]\n",
        "        words_ix[i, len(line_ix) + 1] = token_to_id['>'] # <EOS>\n",
        "\n",
        "        \n",
        "    if not batch_first: # convert [batch, time] into [time, batch]\n",
        "        words_ix = np.transpose(words_ix)\n",
        "\n",
        "    return words_ix"
      ]
    },
    {
      "cell_type": "code",
      "execution_count": 153,
      "metadata": {},
      "outputs": [
        {
          "name": "stdout",
          "output_type": "stream",
          "text": [
            "0      памятливый_памятный\n",
            "1    обоснование_основание\n",
            "Name: word_pair, dtype: object\n",
            "\n",
            " [[40  3 14 21 22  2  0 11 19 35 20 27  3 14 21 22  2 24 35 20 41 42 42]\n",
            " [40 18 15 18  6 24 18 19 14 24 11 16 27 18  6 24 18 19 14 24 11 16 41]]\n"
          ]
        }
      ],
      "source": [
        "print(data['word_pair'][:2])\n",
        "print('\\n', to_matrix(data['word_pair'][:2]))"
      ]
    },
    {
      "cell_type": "code",
      "execution_count": 154,
      "metadata": {},
      "outputs": [
        {
          "name": "stderr",
          "output_type": "stream",
          "text": [
            "/var/folders/xw/04yvk1hx1tg55kxcyvtbggcm0000gn/T/ipykernel_12041/3642515764.py:4: SettingWithCopyWarning: \n",
            "A value is trying to be set on a copy of a slice from a DataFrame\n",
            "\n",
            "See the caveats in the documentation: https://pandas.pydata.org/pandas-docs/stable/user_guide/indexing.html#returning-a-view-versus-a-copy\n",
            "  data['word_pair'].iloc[i] = words_matrix[i]\n"
          ]
        }
      ],
      "source": [
        "words_matrix = to_matrix(data['word_pair'])\n",
        "\n",
        "for i in range(len(data['word_pair'])):\n",
        "    data['word_pair'].iloc[i] = words_matrix[i]"
      ]
    },
    {
      "cell_type": "code",
      "execution_count": 155,
      "metadata": {},
      "outputs": [],
      "source": [
        "import torch\n",
        "from torch.utils.data import Dataset, DataLoader\n",
        "\n",
        "class WordPairDataset(Dataset):\n",
        "    def __init__(self, data):\n",
        "        self.data = data\n",
        "\n",
        "    def __len__(self):\n",
        "        return len(self.data)\n",
        "\n",
        "    def __getitem__(self, idx):\n",
        "        word_pair, label = self.data.iloc[idx]\n",
        "\n",
        "        return torch.tensor(word_pair, dtype=torch.long), torch.tensor(label, dtype=torch.long)\n",
        "\n",
        "# Создание экземпляра датасета\n",
        "train_dataset = WordPairDataset(data[:3000])\n",
        "test_dataset = WordPairDataset(data[3001:])\n",
        "\n",
        "# Создание DataLoader\n",
        "batch_size = 32\n",
        "data_train = DataLoader(train_dataset, batch_size=batch_size, shuffle=True)\n",
        "data_test = DataLoader(test_dataset, batch_size=batch_size,)"
      ]
    },
    {
      "cell_type": "code",
      "execution_count": 156,
      "metadata": {},
      "outputs": [],
      "source": [
        "import torch\n",
        "import torch.nn as nn\n",
        "import torch.optim as optim\n",
        "\n",
        "class SelfAttentionModel(nn.Module):\n",
        "    def __init__(self, input_size, hidden_size, num_classes, num_layers=2, num_heads=8):\n",
        "        super(SelfAttentionModel, self).__init__()\n",
        "\n",
        "        self.embedding = nn.Embedding(input_size, hidden_size)\n",
        "        self.self_attention_layers = nn.ModuleList([\n",
        "            nn.MultiheadAttention(hidden_size, num_heads) for _ in range(num_layers)\n",
        "        ])\n",
        "        self.fc = nn.Linear(hidden_size, num_classes)\n",
        "\n",
        "    def forward(self, x):\n",
        "        embedded = self.embedding(x)\n",
        "        embedded = embedded.permute(1, 0, 2)  # Change the dimensions for Multihead Attention\n",
        "        for layer in self.self_attention_layers:\n",
        "            embedded, _ = layer(embedded, embedded, embedded)\n",
        "        attn_output = embedded.permute(1, 0, 2)  # Reshape to the original dimensions\n",
        "        attn_output = torch.mean(attn_output, dim=1)  # Take the mean across all attention heads\n",
        "        output = self.fc(attn_output)\n",
        "        return output\n",
        "\n",
        "input_size = 7000\n",
        "hidden_size = 128\n",
        "num_layers = 2\n",
        "num_classes = 2\n",
        "\n",
        "model = SelfAttentionModel(input_size, hidden_size, num_classes, num_layers)\n",
        "criterion = nn.CrossEntropyLoss()\n",
        "optimizer = optim.Adam(model.parameters(), lr=0.001)\n"
      ]
    },
    {
      "cell_type": "code",
      "execution_count": 157,
      "metadata": {},
      "outputs": [
        {
          "name": "stdout",
          "output_type": "stream",
          "text": [
            "Epoch [1/15], Loss: 0.6486303429020212\n",
            "Epoch [2/15], Loss: 0.43171474876555993\n",
            "Epoch [3/15], Loss: 0.3323831445676215\n",
            "Epoch [4/15], Loss: 0.25592914933061345\n",
            "Epoch [5/15], Loss: 0.21687053350058008\n",
            "Epoch [6/15], Loss: 0.19694332017543467\n",
            "Epoch [7/15], Loss: 0.18461781987880774\n",
            "Epoch [8/15], Loss: 0.15838731555862628\n",
            "Epoch [9/15], Loss: 0.16012322649042657\n",
            "Epoch [10/15], Loss: 0.1517768032214743\n",
            "Epoch [11/15], Loss: 0.13713592004546143\n",
            "Epoch [12/15], Loss: 0.12695358370609106\n",
            "Epoch [13/15], Loss: 0.12533825345614807\n",
            "Epoch [14/15], Loss: 0.1094309259602364\n",
            "Epoch [15/15], Loss: 0.1124776038440301\n"
          ]
        }
      ],
      "source": [
        "num_epochs = 15\n",
        "loss_arr = []\n",
        "\n",
        "model.train()\n",
        "\n",
        "for epoch in range(num_epochs):\n",
        "    running_loss = 0.0\n",
        "\n",
        "    for inputs, labels in data_train:\n",
        "        optimizer.zero_grad()\n",
        "        outputs = model(inputs)\n",
        "        loss = criterion(outputs, labels)\n",
        "        # loss_arr.append(np.mean(loss.data.numpy()))\n",
        "        loss.backward()\n",
        "        optimizer.step()\n",
        "        running_loss += loss.item()\n",
        "\n",
        "    epoch_loss = running_loss / len(data_train)  # средняя ошибка на эпохе\n",
        "    loss_arr.append(epoch_loss)\n",
        "\n",
        "    print(f'Epoch [{epoch + 1}/{num_epochs}], Loss: {epoch_loss}')"
      ]
    },
    {
      "cell_type": "code",
      "execution_count": 158,
      "metadata": {},
      "outputs": [
        {
          "data": {
            "image/png": "[encoded data removed]",
            "text/plain": [
              "<Figure size 640x480 with 1 Axes>"
            ]
          },
          "metadata": {},
          "output_type": "display_data"
        }
      ],
      "source": [
        "plt.plot(loss_arr, label='Training Loss')\n",
        "plt.xlabel('Epoch')\n",
        "plt.ylabel('Loss')\n",
        "plt.legend()\n",
        "plt.show()"
      ]
    },
    {
      "cell_type": "code",
      "execution_count": 159,
      "metadata": {},
      "outputs": [],
      "source": [
        "model.eval()\n",
        "\n",
        "true_labels = []\n",
        "predicted_labels = []\n",
        "\n",
        "with torch.no_grad():  # Отключение вычисления градиентов\n",
        "    for inputs, labels in data_test:\n",
        "        outputs = model(inputs)\n",
        "        _, predicted = torch.max(outputs, 1)  # Получение индекса класса с максимальной вероятностью\n",
        "\n",
        "        true_labels.extend(labels.numpy())\n",
        "        predicted_labels.extend(predicted.numpy())\n",
        "\n",
        "true_labels = np.array(true_labels)\n",
        "predicted_labels = np.array(predicted_labels)"
      ]
    },
    {
      "cell_type": "code",
      "execution_count": 160,
      "metadata": {},
      "outputs": [
        {
          "name": "stdout",
          "output_type": "stream",
          "text": [
            "Accuracy: 0.912621359223301\n",
            "Recall: 0.9498069498069498\n",
            "Precision: 0.8848920863309353\n",
            "F1-score: 0.9162011173184357\n"
          ]
        }
      ],
      "source": [
        "from sklearn.metrics import accuracy_score, recall_score, precision_score\n",
        "\n",
        "accuracy = accuracy_score(true_labels, predicted_labels)\n",
        "recall = recall_score(true_labels, predicted_labels, average='binary')\n",
        "precision = precision_score(true_labels, predicted_labels, average='binary')\n",
        "\n",
        "print(f'Accuracy: {accuracy}')\n",
        "print(f'Recall: {recall}')\n",
        "print(f'Precision: {precision}')\n",
        "print(f'F1-score: {2 * precision * recall / (precision + recall)}')"
      ]
    },
    {
      "cell_type": "code",
      "execution_count": 161,
      "metadata": {
        "id": "GXPUyCjLaMjE"
      },
      "outputs": [],
      "source": [
        "from fuzzywuzzy import fuzz\n",
        "import Levenshtein\n",
        "\n",
        "def levenshtein_distance(dataset): # вычисление расстояния левенштейна и сходства слов\n",
        "    distances = []\n",
        "\n",
        "    for (word1, word2), _ in dataset:\n",
        "        lev_dist = Levenshtein.distance(word1, word2)\n",
        "        lev_ratio = fuzz.ratio(word1, word2)\n",
        "        distances.append((word1, word2, lev_dist, lev_ratio))\n",
        "\n",
        "    return distances"
      ]
    },
    {
      "cell_type": "code",
      "execution_count": 162,
      "metadata": {
        "colab": {
          "base_uri": "https://localhost:8080/"
        },
        "id": "XfmDniQDbEFW",
        "outputId": "de902500-92af-4f80-a71b-6d900ea8c906"
      },
      "outputs": [
        {
          "ename": "ValueError",
          "evalue": "too many values to unpack (expected 2)",
          "output_type": "error",
          "traceback": [
            "\u001b[0;31m---------------------------------------------------------------------------\u001b[0m",
            "\u001b[0;31mValueError\u001b[0m                                Traceback (most recent call last)",
            "Cell \u001b[0;32mIn [162], line 1\u001b[0m\n\u001b[0;32m----> 1\u001b[0m lev \u001b[38;5;241m=\u001b[39m \u001b[43mlevenshtein_distance\u001b[49m\u001b[43m(\u001b[49m\u001b[43mdataset_par\u001b[49m\u001b[43m)\u001b[49m\n\u001b[1;32m      2\u001b[0m lev\n",
            "Cell \u001b[0;32mIn [161], line 7\u001b[0m, in \u001b[0;36mlevenshtein_distance\u001b[0;34m(dataset)\u001b[0m\n\u001b[1;32m      4\u001b[0m \u001b[38;5;28;01mdef\u001b[39;00m \u001b[38;5;21mlevenshtein_distance\u001b[39m(dataset): \u001b[38;5;66;03m# вычисление расстояния левенштейна и сходства слов\u001b[39;00m\n\u001b[1;32m      5\u001b[0m     distances \u001b[38;5;241m=\u001b[39m []\n\u001b[0;32m----> 7\u001b[0m     \u001b[38;5;28;01mfor\u001b[39;00m (word1, word2), _ \u001b[38;5;129;01min\u001b[39;00m dataset:\n\u001b[1;32m      8\u001b[0m         lev_dist \u001b[38;5;241m=\u001b[39m Levenshtein\u001b[38;5;241m.\u001b[39mdistance(word1, word2)\n\u001b[1;32m      9\u001b[0m         lev_ratio \u001b[38;5;241m=\u001b[39m fuzz\u001b[38;5;241m.\u001b[39mratio(word1, word2)\n",
            "\u001b[0;31mValueError\u001b[0m: too many values to unpack (expected 2)"
          ]
        }
      ],
      "source": [
        "lev = levenshtein_distance(dataset_par)\n",
        "lev"
      ]
    },
    {
      "cell_type": "code",
      "execution_count": null,
      "metadata": {},
      "outputs": [],
      "source": []
    }
  ],
  "metadata": {
    "colab": {
      "provenance": []
    },
    "kernelspec": {
      "display_name": "Python 3.10.7 64-bit",
      "language": "python",
      "name": "python3"
    },
    "language_info": {
      "codemirror_mode": {
        "name": "ipython",
        "version": 3
      },
      "file_extension": ".py",
      "mimetype": "text/x-python",
      "name": "python",
      "nbconvert_exporter": "python",
      "pygments_lexer": "ipython3",
      "version": "3.10.7"
    },
    "vscode": {
      "interpreter": {
        "hash": "aee8b7b246df8f9039afb4144a1f6fd8d2ca17a180786b69acc140d282b71a49"
      }
    }
  },
  "nbformat": 4,
  "nbformat_minor": 0
}
